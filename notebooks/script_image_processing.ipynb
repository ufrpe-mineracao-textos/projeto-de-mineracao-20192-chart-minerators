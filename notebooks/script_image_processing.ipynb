{
  "nbformat": 4,
  "nbformat_minor": 0,
  "metadata": {
    "colab": {
      "name": "script_image_processing.ipynb",
      "provenance": [],
      "collapsed_sections": [
        "Jhuhv_myLikR",
        "cdqNzZXwSfck",
        "ebNj1pXedBOk",
        "_5WGLrU36F7U",
        "IaISmAU1-8g3",
        "XWNuLXFs56qm",
        "waCAk7i8Ow50"
      ],
      "toc_visible": true
    },
    "kernelspec": {
      "name": "python3",
      "display_name": "Python 3"
    }
  },
  "cells": [
    {
      "cell_type": "markdown",
      "metadata": {
        "id": "Pjl03hgDLjwZ",
        "colab_type": "text"
      },
      "source": [
        "#NOTAS"
      ]
    },
    {
      "cell_type": "markdown",
      "metadata": {
        "id": "t5h4oNwAjOIP",
        "colab_type": "text"
      },
      "source": [
        "https://stackoverflow.com/questions/33541551/hough-lines-in-opencv-python\n",
        "\n",
        "\n"
      ]
    },
    {
      "cell_type": "markdown",
      "metadata": {
        "id": "Jhuhv_myLikR",
        "colab_type": "text"
      },
      "source": [
        "#Base fetch"
      ]
    },
    {
      "cell_type": "code",
      "metadata": {
        "id": "e2fc0Sd7DB5i",
        "colab_type": "code",
        "outputId": "a3960425-6185-439c-c85b-0c713468135d",
        "colab": {
          "base_uri": "https://localhost:8080/",
          "height": 191
        }
      },
      "source": [
        "%%shell\n",
        "if [ ! -d base ]\n",
        "then\n",
        "  echo \"Fetching...\"\n",
        "  git clone https://github.com/ufrpe-mineracao-textos/projeto-de-mineracao-20192-chart-minerators.git\n",
        "  echo \"Copying files...\"\n",
        "  cp -r /content/projeto-de-mineracao-20192-chart-minerators/base base\n",
        "  cp -r /content/projeto-de-mineracao-20192-chart-minerators/nova_base nova_base\n",
        "  echo \"Done!\"\n",
        "else\n",
        "  echo \"Directory already exists !\"\n",
        "fi\n"
      ],
      "execution_count": 1,
      "outputs": [
        {
          "output_type": "stream",
          "text": [
            "Fetching...\n",
            "Cloning into 'projeto-de-mineracao-20192-chart-minerators'...\n",
            "remote: Enumerating objects: 265, done.\u001b[K\n",
            "remote: Counting objects: 100% (265/265), done.\u001b[K\n",
            "remote: Compressing objects: 100% (260/260), done.\u001b[K\n",
            "remote: Total 265 (delta 65), reused 129 (delta 3), pack-reused 0\u001b[K\n",
            "Receiving objects: 100% (265/265), 35.21 MiB | 27.42 MiB/s, done.\n",
            "Resolving deltas: 100% (65/65), done.\n",
            "Copying files...\n",
            "Done!\n"
          ],
          "name": "stdout"
        },
        {
          "output_type": "execute_result",
          "data": {
            "text/plain": [
              ""
            ]
          },
          "metadata": {
            "tags": []
          },
          "execution_count": 1
        }
      ]
    },
    {
      "cell_type": "markdown",
      "metadata": {
        "id": "cdqNzZXwSfck",
        "colab_type": "text"
      },
      "source": [
        "#Image segmentation with Hough to detect axis\n",
        "This code aims to segment graphs images between line and axis separately"
      ]
    },
    {
      "cell_type": "markdown",
      "metadata": {
        "id": "ebNj1pXedBOk",
        "colab_type": "text"
      },
      "source": [
        "###Detection axis function\n",
        "Utilized for experiments"
      ]
    },
    {
      "cell_type": "code",
      "metadata": {
        "id": "v7QD-UcESiI1",
        "colab_type": "code",
        "colab": {}
      },
      "source": [
        "def detect_axis_from_chart_probabilistic(img):\n",
        "  img_out = img.copy()\n",
        "  blurGaussian = cv2.GaussianBlur(img,(5,5),0)\n",
        "  ret, th2 = cv2.threshold(blurGaussian, 50, 255, cv2.THRESH_BINARY+cv2.THRESH_OTSU)\n",
        "  edges = cv2.Canny(th2,100,300,apertureSize = 3)\n",
        "  laplacian = cv2.Laplacian(th2, cv2.CV_8UC1)\n",
        "\n",
        "  most_left_vertical_line = (400,0,400,400)\n",
        "  most_right_vertical_line = (0,0,0,400)\n",
        "  upper_horizontal_line = (0,400,400,400)\n",
        "  lower_horizontal_line = (0,0,400,0)\n",
        "\n",
        "  lines = cv2.HoughLinesP(laplacian, 1, np.pi/180, 200, 100, 100)\n",
        "  for line in lines:\n",
        "    for x1,y1, x2,y2 in line:\n",
        "      line = line[0]\n",
        "\n",
        "      # vertical line case\n",
        "      if x1 == x2:\n",
        "        # find most left vertical line\n",
        "        x_most_left = most_left_vertical_line[0]\n",
        "        if x1 < x_most_left:\n",
        "          most_left_vertical_line = line\n",
        "        # find most right vertical line\n",
        "        x_most_right = most_right_vertical_line[0]\n",
        "        if x1 > x_most_right:\n",
        "          most_right_vertical_line = line\n",
        "\n",
        "      # horizontal line case\n",
        "      elif y1 == y2:\n",
        "        # find upper horizontal line\n",
        "        y_most_upper = upper_horizontal_line[1]\n",
        "        if y1 < y_most_upper:\n",
        "          upper_horizontal_line = line\n",
        "        # find lower horizontal line\n",
        "        y_most_lower = lower_horizontal_line[1]\n",
        "        if y1 > y_most_lower:\n",
        "          lower_horizontal_line = line\n",
        "\n",
        "  x1, y1, x2, y2 = most_left_vertical_line\n",
        "  cv2.line(img_out, (x1,y1), (x2,y2),(0,0,255),5)\n",
        "  x1, y1, x2, y2 = most_right_vertical_line\n",
        "  cv2.line(img_out, (x1,y1), (x2,y2),(0,0,255),5)\n",
        "  x1, y1, x2, y2 = upper_horizontal_line\n",
        "  cv2.line(img_out, (x1,y1), (x2,y2),(0,0,255),5)\n",
        "  x1, y1, x2, y2 = lower_horizontal_line\n",
        "  cv2.line(img_out, (x1,y1), (x2,y2),(0,0,255),5)\n",
        "\n",
        "  return img_out"
      ],
      "execution_count": 0,
      "outputs": []
    },
    {
      "cell_type": "markdown",
      "metadata": {
        "id": "_5WGLrU36F7U",
        "colab_type": "text"
      },
      "source": [
        "###Mask to isolate lines function"
      ]
    },
    {
      "cell_type": "code",
      "metadata": {
        "id": "kgXOCiu_6FJA",
        "colab_type": "code",
        "colab": {}
      },
      "source": [
        "def get_mask_over_lines(img):\n",
        "  img_out = np.ones((400,400), np.uint8) * 255\n",
        "  \n",
        "  blurGaussian = cv2.GaussianBlur(img,(5,5),0)\n",
        "  ret, th2 = cv2.threshold(blurGaussian, 127, 255, cv2.THRESH_BINARY+cv2.THRESH_OTSU)\n",
        "\n",
        "  # edges = cv2.Canny(th2,100,300,apertureSize = 3) # TODO removed\n",
        "  laplacian = cv2.Laplacian(th2, cv2.CV_8UC1)\n",
        "  kernel = np.array( [[0,1,0],\n",
        "                      [1,1,1],\n",
        "                      [0,1,0]], np.uint8)\n",
        "  laplacian = cv2.dilate(laplacian,kernel,iterations = 1)\n",
        "\n",
        "  # TODO debug\n",
        "  # print('mask - th2')\n",
        "  # cv2_imshow(th2)\n",
        "  # print('mask - laplacian')\n",
        "  # cv2_imshow(laplacian) \n",
        "\n",
        "  most_left_vertical_line = (400,0,400,400)\n",
        "  most_right_vertical_line = (0,0,0,400)\n",
        "  upper_horizontal_line = (0,400,400,400)\n",
        "  lower_horizontal_line = (0,0,400,0)\n",
        "\n",
        "  lines = cv2.HoughLinesP(laplacian, 1, np.pi/180, 200, 100, 100)\n",
        "  for line in lines:\n",
        "    for x1,y1, x2,y2 in line:\n",
        "      line = line[0]\n",
        "\n",
        "      # vertical line case\n",
        "      if x1 == x2:\n",
        "        # find most left vertical line\n",
        "        x_most_left = most_left_vertical_line[0]\n",
        "        if x1 < x_most_left:\n",
        "          most_left_vertical_line = line\n",
        "        # find most right vertical line\n",
        "        x_most_right = most_right_vertical_line[0]\n",
        "        if x1 > x_most_right:\n",
        "          most_right_vertical_line = line\n",
        "\n",
        "      # horizontal line case\n",
        "      elif y1 == y2:\n",
        "        # find upper horizontal line\n",
        "        y_most_upper = upper_horizontal_line[1]\n",
        "        if y1 < y_most_upper:\n",
        "          upper_horizontal_line = line\n",
        "        # find lower horizontal line\n",
        "        y_most_lower = lower_horizontal_line[1]\n",
        "        if y1 > y_most_lower:\n",
        "          lower_horizontal_line = line\n",
        "\n",
        "      # TODO debug\n",
        "      # cv2.line(img, (x1, y1), (x2, y2), (0,0,0), 2)\n",
        "\n",
        "  # TODO debug\n",
        "  # print('img')\n",
        "  # cv2_imshow(img)\n",
        "\n",
        "  margin_tolerance = 5\n",
        "\n",
        "  # left\n",
        "  x1, y1, x2, y2 = most_left_vertical_line\n",
        "  cv2.rectangle(img_out, (0,0), (x2+margin_tolerance,400), (0,0,0), -1)\n",
        "\n",
        "  #right\n",
        "  x1, y1, x2, y2 = most_right_vertical_line\n",
        "  cv2.rectangle(img_out, (400,400), (x2-margin_tolerance,0), (0,0,0), -1)\n",
        "  \n",
        "  #top\n",
        "  x1, y1, x2, y2 = upper_horizontal_line\n",
        "  cv2.rectangle(img_out, (0,0), (400,y2+margin_tolerance), (0,0,0), -1)\n",
        "\n",
        "  #bottom\n",
        "  x1, y1, x2, y2 = lower_horizontal_line\n",
        "  cv2.rectangle(img_out, (400,400), (0,y2-margin_tolerance), (0,0,0), -1)\n",
        "\n",
        "  return img_out"
      ],
      "execution_count": 0,
      "outputs": []
    },
    {
      "cell_type": "markdown",
      "metadata": {
        "id": "IaISmAU1-8g3",
        "colab_type": "text"
      },
      "source": [
        "###Function to segment image between lines and axis"
      ]
    },
    {
      "cell_type": "code",
      "metadata": {
        "id": "LTjmATnhwTp5",
        "colab_type": "code",
        "colab": {}
      },
      "source": [
        "def segment_image_lines_and_axis(img):\n",
        "  # get mask from axis  \n",
        "  mask = get_mask_over_lines(img)\n",
        "  # get only line part of graph\n",
        "  line_part = cv2.bitwise_and(mask, img)\n",
        "  # get only numbers and characters part of graph\n",
        "  mask_inv = 255 - mask\n",
        "  axis_information_part = cv2.bitwise_and(mask_inv, img)\n",
        "\n",
        "  line_part = cv2.add(line_part, mask_inv)\n",
        "  axis_information_part = cv2.add(axis_information_part, mask)\n",
        "\n",
        "  # TODO debug\n",
        "  # print('before')\n",
        "  # cv2_imshow(line_part)\n",
        "  # cv2_imshow(axis_information_part)\n",
        "  \n",
        "  line_part = cv2.GaussianBlur(line_part, (5,5), 0)\n",
        "  ret, th_line_part = cv2.threshold(line_part, 210, 255, cv2.THRESH_BINARY)\n",
        "  ret, th_axis_part = cv2.threshold(axis_information_part, 127, 255, cv2.THRESH_BINARY+cv2.THRESH_OTSU)\n",
        "\n",
        "  return th_line_part, axis_information_part"
      ],
      "execution_count": 0,
      "outputs": []
    },
    {
      "cell_type": "markdown",
      "metadata": {
        "id": "XWNuLXFs56qm",
        "colab_type": "text"
      },
      "source": [
        "###Execution over files"
      ]
    },
    {
      "cell_type": "code",
      "metadata": {
        "id": "Dm7R-9kvboGD",
        "colab_type": "code",
        "colab": {}
      },
      "source": [
        "import math\n",
        "import cv2\n",
        "import numpy as np\n",
        "%matplotlib inline\n",
        "from matplotlib import pyplot as plt\n",
        "from google.colab.patches import cv2_imshow\n",
        "from PIL import Image\n",
        "import glob\n",
        "import shutil\n",
        "\n",
        "dest_dir = \"base\"\n",
        "# for diretorioPai in glob.glob('base/*'):\n",
        "for diretorioPai in glob.glob('nova_base/*'):\n",
        "  for imagem in glob.glob(diretorioPai+'/*'):\n",
        "    if(\".txt\" not in imagem and \".docx\" not in imagem and \".gif\" not in imagem and \".svg\" not in imagem and \".png\" not in imagem and \".PNG\" not in imagem):  \n",
        "      print(imagem)\n",
        "      img = cv2.imread(imagem,0)\n",
        "      img = cv2.resize(img, (400,400))\n",
        "\n",
        "      print('original')\n",
        "      cv2_imshow(img)\n",
        "\n",
        "      line_part, axis_information_part = segment_image_lines_and_axis(img)\n",
        "\n",
        "      print('processed line part')\n",
        "      cv2_imshow(line_part)\n",
        "      print('processed number part')\n",
        "      cv2_imshow(axis_information_part)\n",
        "\n",
        "    elif(\".gif\" in imagem):\n",
        "      print(imagem)\n",
        "      im = Image.open(imagem)\n",
        "      rgb_im = im.convert('RGB')\n",
        "      path=imagem.split('/')\n",
        "      nome=path[-1].split('.')\n",
        "      path_novo = '{}.jpg'.format(nome[0])\n",
        "      rgb_im.save(path_novo)\n",
        "      \n",
        "      img = cv2.imread(path_novo,0)\n",
        "      img = cv2.resize(img, (400,400))\n",
        "\n",
        "      print('original')\n",
        "      cv2_imshow(img)\n",
        "\n",
        "      line_part, axis_information_part = segment_image_lines_and_axis(img)\n",
        "\n",
        "      print('processed line part')\n",
        "      cv2_imshow(line_part)\n",
        "      print('processed number part')\n",
        "      cv2_imshow(axis_information_part)\n",
        "\n",
        "    print(80 * '=')\n"
      ],
      "execution_count": 0,
      "outputs": []
    },
    {
      "cell_type": "markdown",
      "metadata": {
        "id": "waCAk7i8Ow50",
        "colab_type": "text"
      },
      "source": [
        "##Draft\n",
        "Utilized for experiments"
      ]
    },
    {
      "cell_type": "code",
      "metadata": {
        "id": "wpLVqbv44ODi",
        "colab_type": "code",
        "colab": {}
      },
      "source": [
        "import math\n",
        "import cv2\n",
        "import numpy as np\n",
        "%matplotlib inline\n",
        "from matplotlib import pyplot as plt\n",
        "from google.colab.patches import cv2_imshow\n",
        "from PIL import Image\n",
        "import glob\n",
        "import shutil\n",
        "\n",
        "imagem = 'projeto-de-mineracao-20192-chart-minerators/nova_base/Jonas/imagem27.jpg'\n",
        "\n",
        "print(imagem)\n",
        "img = cv2.imread(imagem,0)\n",
        "img = cv2.resize(img, (400,400))\n",
        "\n",
        "print('original')\n",
        "cv2_imshow(img)\n",
        "\n",
        "line_part, axis_information_part = segment_image_lines_and_axis(img)\n",
        "\n",
        "print('processed line part')\n",
        "cv2_imshow(line_part)\n",
        "print('processed number part')\n",
        "cv2_imshow(axis_information_part)\n",
        "\n"
      ],
      "execution_count": 0,
      "outputs": []
    }
  ]
}